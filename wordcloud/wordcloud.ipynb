{
 "cells": [
  {
   "cell_type": "code",
   "execution_count": 1,
   "id": "7014a1c8",
   "metadata": {},
   "outputs": [],
   "source": [
    "from wordcloud import WordCloud, STOPWORDS, ImageColorGenerator\n",
    "\n",
    "import numpy as np \n",
    "import pandas as pd\n",
    "import os\n",
    "import seaborn as sns\n",
    "import matplotlib.pyplot as plt\n",
    "plt.style.use('ggplot')\n",
    "from tqdm import tqdm\n",
    "from progressbar import ProgressBar\n",
    "import re\n",
    "from scipy.cluster.vq import kmeans, vq\n",
    "from pylab import plot, show\n",
    "from matplotlib.lines import Line2D\n",
    "import matplotlib.colors as mcolors\n",
    "from sklearn.cluster import KMeans\n",
    "from sklearn import neighbors\n",
    "from sklearn.model_selection import train_test_split\n",
    "from sklearn.preprocessing import MinMaxScaler\n",
    "import isbnlib\n",
    "import goodreads_api_client as gr\n",
    "from newspaper import Article"
   ]
  },
  {
   "cell_type": "code",
   "execution_count": 2,
   "id": "c5dcd487",
   "metadata": {},
   "outputs": [
    {
     "name": "stderr",
     "output_type": "stream",
     "text": [
      "/var/folders/_r/wftd7dk93nj_hbzpqfw4vnsr0000gn/T/ipykernel_74009/397317604.py:1: FutureWarning: The error_bad_lines argument has been deprecated and will be removed in a future version. Use on_bad_lines in the future.\n",
      "\n",
      "\n",
      "  df = pd.read_csv('books.csv', error_bad_lines = False)\n",
      "b'Skipping line 3350: expected 12 fields, saw 13\\nSkipping line 4704: expected 12 fields, saw 13\\nSkipping line 5879: expected 12 fields, saw 13\\nSkipping line 8981: expected 12 fields, saw 13\\n'\n"
     ]
    }
   ],
   "source": [
    "df = pd.read_csv('books.csv', error_bad_lines = False)"
   ]
  },
  {
   "cell_type": "code",
   "execution_count": 4,
   "id": "238d718d",
   "metadata": {
    "scrolled": true
   },
   "outputs": [
    {
     "data": {
      "text/html": [
       "<div>\n",
       "<style scoped>\n",
       "    .dataframe tbody tr th:only-of-type {\n",
       "        vertical-align: middle;\n",
       "    }\n",
       "\n",
       "    .dataframe tbody tr th {\n",
       "        vertical-align: top;\n",
       "    }\n",
       "\n",
       "    .dataframe thead th {\n",
       "        text-align: right;\n",
       "    }\n",
       "</style>\n",
       "<table border=\"1\" class=\"dataframe\">\n",
       "  <thead>\n",
       "    <tr style=\"text-align: right;\">\n",
       "      <th></th>\n",
       "      <th>bookID</th>\n",
       "      <th>title</th>\n",
       "      <th>authors</th>\n",
       "      <th>average_rating</th>\n",
       "      <th>isbn</th>\n",
       "      <th>isbn13</th>\n",
       "      <th>language_code</th>\n",
       "      <th>num_pages</th>\n",
       "      <th>ratings_count</th>\n",
       "      <th>text_reviews_count</th>\n",
       "      <th>publication_date</th>\n",
       "      <th>publisher</th>\n",
       "    </tr>\n",
       "  </thead>\n",
       "  <tbody>\n",
       "    <tr>\n",
       "      <th>0</th>\n",
       "      <td>1</td>\n",
       "      <td>Harry Potter and the Half-Blood Prince (Harry ...</td>\n",
       "      <td>J.K. Rowling/Mary GrandPré</td>\n",
       "      <td>4.57</td>\n",
       "      <td>0439785960</td>\n",
       "      <td>9780439785969</td>\n",
       "      <td>eng</td>\n",
       "      <td>652</td>\n",
       "      <td>2095690</td>\n",
       "      <td>27591</td>\n",
       "      <td>9/16/2006</td>\n",
       "      <td>Scholastic Inc.</td>\n",
       "    </tr>\n",
       "    <tr>\n",
       "      <th>1</th>\n",
       "      <td>2</td>\n",
       "      <td>Harry Potter and the Order of the Phoenix (Har...</td>\n",
       "      <td>J.K. Rowling/Mary GrandPré</td>\n",
       "      <td>4.49</td>\n",
       "      <td>0439358078</td>\n",
       "      <td>9780439358071</td>\n",
       "      <td>eng</td>\n",
       "      <td>870</td>\n",
       "      <td>2153167</td>\n",
       "      <td>29221</td>\n",
       "      <td>9/1/2004</td>\n",
       "      <td>Scholastic Inc.</td>\n",
       "    </tr>\n",
       "  </tbody>\n",
       "</table>\n",
       "</div>"
      ],
      "text/plain": [
       "   bookID                                              title  \\\n",
       "0       1  Harry Potter and the Half-Blood Prince (Harry ...   \n",
       "1       2  Harry Potter and the Order of the Phoenix (Har...   \n",
       "\n",
       "                      authors  average_rating        isbn         isbn13  \\\n",
       "0  J.K. Rowling/Mary GrandPré            4.57  0439785960  9780439785969   \n",
       "1  J.K. Rowling/Mary GrandPré            4.49  0439358078  9780439358071   \n",
       "\n",
       "  language_code    num_pages  ratings_count  text_reviews_count  \\\n",
       "0           eng          652        2095690               27591   \n",
       "1           eng          870        2153167               29221   \n",
       "\n",
       "  publication_date        publisher  \n",
       "0        9/16/2006  Scholastic Inc.  \n",
       "1         9/1/2004  Scholastic Inc.  "
      ]
     },
     "execution_count": 4,
     "metadata": {},
     "output_type": "execute_result"
    }
   ],
   "source": [
    "df.head(2)"
   ]
  },
  {
   "cell_type": "code",
   "execution_count": 5,
   "id": "37bba5f2",
   "metadata": {},
   "outputs": [],
   "source": [
    "def final_df(df1, l):\n",
    "    year_df = pd.DataFrame(l, columns=['Year'])\n",
    "    df1 = df1.reset_index(drop=True)\n",
    "    final = df1[['authors', 'average_rating', 'title']].join(year_df)\n",
    "    return final"
   ]
  },
  {
   "cell_type": "code",
   "execution_count": 38,
   "id": "283033ac",
   "metadata": {},
   "outputs": [],
   "source": [
    "def bookdata(df):\n",
    "    year=[]\n",
    "    pbar = ProgressBar()\n",
    "    for isbn in pbar(df.isbn13):\n",
    "        try:\n",
    "            details = isbnlib.meta(isbn)\n",
    "            year.append(details['Year'])\n",
    "        except :\n",
    "            #Trying out with goodreads api now\n",
    "            print(\"exception #1\")\n",
    "            try: \n",
    "                book_detail = client.book.show_by_isbn(isbn)\n",
    "                keys_wanted = ['publication_year']\n",
    "                reduced_book = {k:v for k,v in book_detail.items() if k in keys_wanted}\n",
    "                year.append((reduced_book['publication_year']))\n",
    "            \n",
    "            except: \n",
    "                #Going with webscraping\n",
    "                print(\"exception #2\")\n",
    "                try:\n",
    "                    y = html(isbn)\n",
    "                    year_extracted = reg(y) #Extracting year with regex\n",
    "                    year.append(y)\n",
    "                except:\n",
    "                    print(\"exception #3\")\n",
    "                    year.append('0')\n",
    "                \n",
    "    return year"
   ]
  },
  {
   "cell_type": "code",
   "execution_count": 7,
   "id": "69cd23cc",
   "metadata": {},
   "outputs": [],
   "source": [
    "def plot_author_chart(author_df):\n",
    "    year = bookdata(author_df)\n",
    "    author_df = final_df(author_df, year)\n",
    "    author_df.dropna(0, inplace=True)\n",
    "    author_df = author_df[author_df['Year'].str.isnumeric()]\n",
    "    author_df = author_df.set_index('title')\n",
    "    author_df = author_df[author_df.Year !='0']\n",
    "    plt.figure(figsize=(15,15))\n",
    "    sns.set_context('talk')\n",
    "    plt.xticks(rotation=30)\n",
    "    ax =  sns.barplot(data=author_df, x='Year', y='average_rating')\n",
    "    ax.set_title(\"Average rating of books over time, \"+ author_df.authors[1])\n",
    "    plt.xticks(rotation=30)\n",
    "    return ax"
   ]
  },
  {
   "cell_type": "code",
   "execution_count": 8,
   "id": "527a2afb",
   "metadata": {},
   "outputs": [],
   "source": [
    "authors= ['Stephen King', 'Agatha Christie', 'Dan Brown', 'J.K. Rowling']"
   ]
  },
  {
   "cell_type": "code",
   "execution_count": 9,
   "id": "5ec45660",
   "metadata": {},
   "outputs": [
    {
     "data": {
      "text/html": [
       "<div>\n",
       "<style scoped>\n",
       "    .dataframe tbody tr th:only-of-type {\n",
       "        vertical-align: middle;\n",
       "    }\n",
       "\n",
       "    .dataframe tbody tr th {\n",
       "        vertical-align: top;\n",
       "    }\n",
       "\n",
       "    .dataframe thead th {\n",
       "        text-align: right;\n",
       "    }\n",
       "</style>\n",
       "<table border=\"1\" class=\"dataframe\">\n",
       "  <thead>\n",
       "    <tr style=\"text-align: right;\">\n",
       "      <th></th>\n",
       "      <th>bookID</th>\n",
       "      <th>title</th>\n",
       "      <th>authors</th>\n",
       "      <th>average_rating</th>\n",
       "      <th>isbn</th>\n",
       "      <th>isbn13</th>\n",
       "      <th>language_code</th>\n",
       "      <th>num_pages</th>\n",
       "      <th>ratings_count</th>\n",
       "      <th>text_reviews_count</th>\n",
       "      <th>publication_date</th>\n",
       "      <th>publisher</th>\n",
       "    </tr>\n",
       "  </thead>\n",
       "  <tbody>\n",
       "    <tr>\n",
       "      <th>4516</th>\n",
       "      <td>16297</td>\n",
       "      <td>Cards on the Table (Hercule Poirot  #15)</td>\n",
       "      <td>Agatha Christie</td>\n",
       "      <td>3.92</td>\n",
       "      <td>0425205959</td>\n",
       "      <td>9780425205952</td>\n",
       "      <td>eng</td>\n",
       "      <td>324</td>\n",
       "      <td>25236</td>\n",
       "      <td>1046</td>\n",
       "      <td>7/5/2005</td>\n",
       "      <td>Berkley</td>\n",
       "    </tr>\n",
       "  </tbody>\n",
       "</table>\n",
       "</div>"
      ],
      "text/plain": [
       "      bookID                                     title          authors  \\\n",
       "4516   16297  Cards on the Table (Hercule Poirot  #15)  Agatha Christie   \n",
       "\n",
       "      average_rating        isbn         isbn13 language_code    num_pages  \\\n",
       "4516            3.92  0425205959  9780425205952           eng          324   \n",
       "\n",
       "      ratings_count  text_reviews_count publication_date publisher  \n",
       "4516          25236                1046         7/5/2005   Berkley  "
      ]
     },
     "execution_count": 9,
     "metadata": {},
     "output_type": "execute_result"
    }
   ],
   "source": [
    "author_df = df[df['authors']==authors[1]]\n",
    "author_df = author_df[author_df['language_code']=='eng']\n",
    "author_df.head(1)"
   ]
  },
  {
   "cell_type": "code",
   "execution_count": 17,
   "id": "156b17fd",
   "metadata": {},
   "outputs": [
    {
     "data": {
      "text/plain": [
       "bookID                0\n",
       "title                 0\n",
       "authors               0\n",
       "average_rating        0\n",
       "isbn                  0\n",
       "isbn13                0\n",
       "language_code         0\n",
       "  num_pages           0\n",
       "ratings_count         0\n",
       "text_reviews_count    0\n",
       "publication_date      0\n",
       "publisher             0\n",
       "dtype: int64"
      ]
     },
     "execution_count": 17,
     "metadata": {},
     "output_type": "execute_result"
    }
   ],
   "source": [
    "df.isnull().sum()"
   ]
  },
  {
   "cell_type": "code",
   "execution_count": 13,
   "id": "63e9dacb",
   "metadata": {},
   "outputs": [
    {
     "data": {
      "text/plain": [
       "{'ISBN-13': '9780425205952',\n",
       " 'Title': 'Cards On The Table',\n",
       " 'Authors': ['Agatha Christie'],\n",
       " 'Publisher': 'Berkley Publishing Group',\n",
       " 'Year': '2005',\n",
       " 'Language': 'en'}"
      ]
     },
     "execution_count": 13,
     "metadata": {},
     "output_type": "execute_result"
    }
   ],
   "source": [
    "details"
   ]
  },
  {
   "cell_type": "code",
   "execution_count": 18,
   "id": "a4b125fb",
   "metadata": {},
   "outputs": [],
   "source": [
    "year=[]"
   ]
  },
  {
   "cell_type": "code",
   "execution_count": 12,
   "id": "43410c1f",
   "metadata": {},
   "outputs": [],
   "source": [
    "details = isbnlib.meta('9780425205952')"
   ]
  },
  {
   "cell_type": "code",
   "execution_count": 15,
   "id": "697ef95c",
   "metadata": {},
   "outputs": [],
   "source": [
    "year.append(details['Year'])"
   ]
  },
  {
   "cell_type": "code",
   "execution_count": 16,
   "id": "147c6f1d",
   "metadata": {},
   "outputs": [
    {
     "data": {
      "text/plain": [
       "['2005']"
      ]
     },
     "execution_count": 16,
     "metadata": {},
     "output_type": "execute_result"
    }
   ],
   "source": [
    "year"
   ]
  },
  {
   "cell_type": "code",
   "execution_count": 29,
   "id": "e016f2ea",
   "metadata": {},
   "outputs": [],
   "source": [
    "details = isbnlib.meta('9780425205952')"
   ]
  },
  {
   "cell_type": "code",
   "execution_count": 30,
   "id": "83643b05",
   "metadata": {},
   "outputs": [
    {
     "data": {
      "text/plain": [
       "{'ISBN-13': '9780425205952',\n",
       " 'Title': 'Cards On The Table',\n",
       " 'Authors': ['Agatha Christie'],\n",
       " 'Publisher': 'Berkley Publishing Group',\n",
       " 'Year': '2005',\n",
       " 'Language': 'en'}"
      ]
     },
     "execution_count": 30,
     "metadata": {},
     "output_type": "execute_result"
    }
   ],
   "source": [
    "details"
   ]
  },
  {
   "cell_type": "code",
   "execution_count": 34,
   "id": "5f203fb0",
   "metadata": {
    "scrolled": true
   },
   "outputs": [
    {
     "name": "stdout",
     "output_type": "stream",
     "text": [
      "9780439358071\n",
      "Didn't Work\n"
     ]
    }
   ],
   "source": [
    "pbar = ProgressBar()\n",
    "working_list = [\"9780439358071\"]\n",
    "#for isbn in pbar(df.isbn13):\n",
    "for isbn in working_list:\n",
    "    try:\n",
    "        print(isbn)\n",
    "        details = isbnlib.meta(isbn)\n",
    "        print(details['Year'])\n",
    "        #details = isbnlib.meta(isbn)\n",
    "        #year.append(details['Year'])\n",
    "    except :\n",
    "        print(\"Didn't Work\")"
   ]
  },
  {
   "cell_type": "code",
   "execution_count": 33,
   "id": "637a7347",
   "metadata": {},
   "outputs": [
    {
     "data": {
      "text/html": [
       "<div>\n",
       "<style scoped>\n",
       "    .dataframe tbody tr th:only-of-type {\n",
       "        vertical-align: middle;\n",
       "    }\n",
       "\n",
       "    .dataframe tbody tr th {\n",
       "        vertical-align: top;\n",
       "    }\n",
       "\n",
       "    .dataframe thead th {\n",
       "        text-align: right;\n",
       "    }\n",
       "</style>\n",
       "<table border=\"1\" class=\"dataframe\">\n",
       "  <thead>\n",
       "    <tr style=\"text-align: right;\">\n",
       "      <th></th>\n",
       "      <th>bookID</th>\n",
       "      <th>title</th>\n",
       "      <th>authors</th>\n",
       "      <th>average_rating</th>\n",
       "      <th>isbn</th>\n",
       "      <th>isbn13</th>\n",
       "      <th>language_code</th>\n",
       "      <th>num_pages</th>\n",
       "      <th>ratings_count</th>\n",
       "      <th>text_reviews_count</th>\n",
       "      <th>publication_date</th>\n",
       "      <th>publisher</th>\n",
       "    </tr>\n",
       "  </thead>\n",
       "  <tbody>\n",
       "    <tr>\n",
       "      <th>0</th>\n",
       "      <td>1</td>\n",
       "      <td>Harry Potter and the Half-Blood Prince (Harry ...</td>\n",
       "      <td>J.K. Rowling/Mary GrandPré</td>\n",
       "      <td>4.57</td>\n",
       "      <td>0439785960</td>\n",
       "      <td>9780439785969</td>\n",
       "      <td>eng</td>\n",
       "      <td>652</td>\n",
       "      <td>2095690</td>\n",
       "      <td>27591</td>\n",
       "      <td>9/16/2006</td>\n",
       "      <td>Scholastic Inc.</td>\n",
       "    </tr>\n",
       "    <tr>\n",
       "      <th>1</th>\n",
       "      <td>2</td>\n",
       "      <td>Harry Potter and the Order of the Phoenix (Har...</td>\n",
       "      <td>J.K. Rowling/Mary GrandPré</td>\n",
       "      <td>4.49</td>\n",
       "      <td>0439358078</td>\n",
       "      <td>9780439358071</td>\n",
       "      <td>eng</td>\n",
       "      <td>870</td>\n",
       "      <td>2153167</td>\n",
       "      <td>29221</td>\n",
       "      <td>9/1/2004</td>\n",
       "      <td>Scholastic Inc.</td>\n",
       "    </tr>\n",
       "    <tr>\n",
       "      <th>2</th>\n",
       "      <td>4</td>\n",
       "      <td>Harry Potter and the Chamber of Secrets (Harry...</td>\n",
       "      <td>J.K. Rowling</td>\n",
       "      <td>4.42</td>\n",
       "      <td>0439554896</td>\n",
       "      <td>9780439554893</td>\n",
       "      <td>eng</td>\n",
       "      <td>352</td>\n",
       "      <td>6333</td>\n",
       "      <td>244</td>\n",
       "      <td>11/1/2003</td>\n",
       "      <td>Scholastic</td>\n",
       "    </tr>\n",
       "  </tbody>\n",
       "</table>\n",
       "</div>"
      ],
      "text/plain": [
       "   bookID                                              title  \\\n",
       "0       1  Harry Potter and the Half-Blood Prince (Harry ...   \n",
       "1       2  Harry Potter and the Order of the Phoenix (Har...   \n",
       "2       4  Harry Potter and the Chamber of Secrets (Harry...   \n",
       "\n",
       "                      authors  average_rating        isbn         isbn13  \\\n",
       "0  J.K. Rowling/Mary GrandPré            4.57  0439785960  9780439785969   \n",
       "1  J.K. Rowling/Mary GrandPré            4.49  0439358078  9780439358071   \n",
       "2                J.K. Rowling            4.42  0439554896  9780439554893   \n",
       "\n",
       "  language_code    num_pages  ratings_count  text_reviews_count  \\\n",
       "0           eng          652        2095690               27591   \n",
       "1           eng          870        2153167               29221   \n",
       "2           eng          352           6333                 244   \n",
       "\n",
       "  publication_date        publisher  \n",
       "0        9/16/2006  Scholastic Inc.  \n",
       "1         9/1/2004  Scholastic Inc.  \n",
       "2        11/1/2003       Scholastic  "
      ]
     },
     "execution_count": 33,
     "metadata": {},
     "output_type": "execute_result"
    }
   ],
   "source": [
    "df.head(3)"
   ]
  },
  {
   "cell_type": "code",
   "execution_count": 35,
   "id": "0e4680c2",
   "metadata": {},
   "outputs": [],
   "source": [
    "not_working_list = ['9780439358071']"
   ]
  },
  {
   "cell_type": "code",
   "execution_count": 46,
   "id": "4ff1de3a",
   "metadata": {},
   "outputs": [
    {
     "ename": "TypeError",
     "evalue": "show_by_isbn() missing 1 required positional argument: 'self'",
     "output_type": "error",
     "traceback": [
      "\u001b[0;31m---------------------------------------------------------------------------\u001b[0m",
      "\u001b[0;31mTypeError\u001b[0m                                 Traceback (most recent call last)",
      "Cell \u001b[0;32mIn[46], line 1\u001b[0m\n\u001b[0;32m----> 1\u001b[0m book_detail \u001b[38;5;241m=\u001b[39m \u001b[43mgr\u001b[49m\u001b[38;5;241;43m.\u001b[39;49m\u001b[43mclient\u001b[49m\u001b[38;5;241;43m.\u001b[39;49m\u001b[43mresources\u001b[49m\u001b[38;5;241;43m.\u001b[39;49m\u001b[43mBook\u001b[49m\u001b[38;5;241;43m.\u001b[39;49m\u001b[43mshow_by_isbn\u001b[49m\u001b[43m(\u001b[49m\u001b[43misbn\u001b[49m\u001b[38;5;241;43m=\u001b[39;49m\u001b[38;5;124;43m'\u001b[39;49m\u001b[38;5;124;43m9780439358071\u001b[39;49m\u001b[38;5;124;43m'\u001b[39;49m\u001b[43m)\u001b[49m\n\u001b[1;32m      2\u001b[0m book_detail\n",
      "\u001b[0;31mTypeError\u001b[0m: show_by_isbn() missing 1 required positional argument: 'self'"
     ]
    }
   ],
   "source": [
    "book_detail = gr.client.resources.Book.show_by_isbn(isbn='9780439358071')\n",
    "book_detail"
   ]
  },
  {
   "cell_type": "code",
   "execution_count": 48,
   "id": "28aff094",
   "metadata": {},
   "outputs": [],
   "source": [
    "def html(isbn):\n",
    "    url = 'https://isbndb.com/book/'+isbn\n",
    "    article = Article(url)\n",
    "    #article = 'https://isbndb.com/book/9780450524684'\n",
    "    article.download()\n",
    "    article.parse()\n",
    "    ar = article.html\n",
    "    ar = ar[9300:9900]\n",
    "    return ar"
   ]
  },
  {
   "cell_type": "code",
   "execution_count": 51,
   "id": "602afc72",
   "metadata": {},
   "outputs": [],
   "source": [
    "def reg(l):\n",
    "    return re.search(r'(\\b\\d{4})\\b',l).groups()[0]"
   ]
  },
  {
   "cell_type": "code",
   "execution_count": 52,
   "id": "af2a0be2",
   "metadata": {},
   "outputs": [
    {
     "ename": "AttributeError",
     "evalue": "'NoneType' object has no attribute 'groups'",
     "output_type": "error",
     "traceback": [
      "\u001b[0;31m---------------------------------------------------------------------------\u001b[0m",
      "\u001b[0;31mAttributeError\u001b[0m                            Traceback (most recent call last)",
      "Cell \u001b[0;32mIn[52], line 2\u001b[0m\n\u001b[1;32m      1\u001b[0m y \u001b[38;5;241m=\u001b[39m html(not_working_list[\u001b[38;5;241m0\u001b[39m])\n\u001b[0;32m----> 2\u001b[0m year_extracted \u001b[38;5;241m=\u001b[39m \u001b[43mreg\u001b[49m\u001b[43m(\u001b[49m\u001b[43my\u001b[49m\u001b[43m)\u001b[49m \u001b[38;5;66;03m#Extracting year with regex\u001b[39;00m\n\u001b[1;32m      3\u001b[0m year\u001b[38;5;241m.\u001b[39mappend(y)\n\u001b[1;32m      4\u001b[0m year\n",
      "Cell \u001b[0;32mIn[51], line 2\u001b[0m, in \u001b[0;36mreg\u001b[0;34m(l)\u001b[0m\n\u001b[1;32m      1\u001b[0m \u001b[38;5;28;01mdef\u001b[39;00m \u001b[38;5;21mreg\u001b[39m(l):\n\u001b[0;32m----> 2\u001b[0m     \u001b[38;5;28;01mreturn\u001b[39;00m \u001b[43mre\u001b[49m\u001b[38;5;241;43m.\u001b[39;49m\u001b[43msearch\u001b[49m\u001b[43m(\u001b[49m\u001b[38;5;124;43mr\u001b[39;49m\u001b[38;5;124;43m'\u001b[39;49m\u001b[38;5;124;43m(\u001b[39;49m\u001b[38;5;124;43m\\\u001b[39;49m\u001b[38;5;124;43mb\u001b[39;49m\u001b[38;5;124;43m\\\u001b[39;49m\u001b[38;5;124;43md\u001b[39;49m\u001b[38;5;132;43;01m{4}\u001b[39;49;00m\u001b[38;5;124;43m)\u001b[39;49m\u001b[38;5;124;43m\\\u001b[39;49m\u001b[38;5;124;43mb\u001b[39;49m\u001b[38;5;124;43m'\u001b[39;49m\u001b[43m,\u001b[49m\u001b[43ml\u001b[49m\u001b[43m)\u001b[49m\u001b[38;5;241;43m.\u001b[39;49m\u001b[43mgroups\u001b[49m()[\u001b[38;5;241m0\u001b[39m]\n",
      "\u001b[0;31mAttributeError\u001b[0m: 'NoneType' object has no attribute 'groups'"
     ]
    }
   ],
   "source": [
    "y = html(not_working_list[0])\n",
    "year_extracted = reg(y) #Extracting year with regex\n",
    "year.append(y)\n",
    "year"
   ]
  },
  {
   "cell_type": "code",
   "execution_count": null,
   "id": "7a295b9e",
   "metadata": {},
   "outputs": [],
   "source": [
    "a"
   ]
  }
 ],
 "metadata": {
  "kernelspec": {
   "display_name": "Python 3 (ipykernel)",
   "language": "python",
   "name": "python3"
  },
  "language_info": {
   "codemirror_mode": {
    "name": "ipython",
    "version": 3
   },
   "file_extension": ".py",
   "mimetype": "text/x-python",
   "name": "python",
   "nbconvert_exporter": "python",
   "pygments_lexer": "ipython3",
   "version": "3.9.15"
  }
 },
 "nbformat": 4,
 "nbformat_minor": 5
}
