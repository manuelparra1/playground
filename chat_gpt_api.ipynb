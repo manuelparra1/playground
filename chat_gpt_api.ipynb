{
 "cells": [
  {
   "cell_type": "code",
   "execution_count": 12,
   "id": "7fd1d043",
   "metadata": {},
   "outputs": [],
   "source": [
    "import openai\n",
    "from env import openai_key\n",
    "from IPython.display import display, Markdown,display_markdown"
   ]
  },
  {
   "cell_type": "code",
   "execution_count": 2,
   "id": "90adf59b",
   "metadata": {},
   "outputs": [],
   "source": [
    "# model setup\n",
    "openai.api_key = openai_key\n",
    "model = 'gpt-3.5-turbo'"
   ]
  },
  {
   "cell_type": "code",
   "execution_count": 19,
   "id": "8f38e71d",
   "metadata": {},
   "outputs": [],
   "source": [
    "# Chat Model accepts dictionary as input\n",
    "message = [\n",
    "        {\"role\": \"system\", \"content\": \"What do you know about the Codeup bootcamp?\"}\n",
    "    ]"
   ]
  },
  {
   "cell_type": "code",
   "execution_count": 20,
   "id": "3615dbf5",
   "metadata": {},
   "outputs": [],
   "source": [
    "# Chat Completion Model\n",
    "response = openai.ChatCompletion.create(\n",
    "    model = model,\n",
    "    messages = message,\n",
    "    max_tokens = 1000,\n",
    "    n = 1,\n",
    "    stop = None,\n",
    "    temperature = 0.5\n",
    ")\n",
    "\n",
    "# parsing chat model json/dictionary response\n",
    "message = response.choices[0].message.content\n",
    "#print(message)"
   ]
  },
  {
   "cell_type": "code",
   "execution_count": 16,
   "id": "998ae8f6",
   "metadata": {},
   "outputs": [],
   "source": [
    "#display_markdown(f'# {message}',raw=True)"
   ]
  },
  {
   "cell_type": "code",
   "execution_count": 21,
   "id": "58c333f7",
   "metadata": {},
   "outputs": [
    {
     "data": {
      "text/markdown": [
       "# \n",
       "\n",
       "As an AI language model, I can provide you with information about the Codeup bootcamp, which is a 20-week intensive coding program that prepares students for a career in software development. \n",
       "\n",
       "Codeup offers courses in several programming languages such as Java, Python, and Full Stack Web Development. The program is designed to be immersive, with students spending most of their time in class, working on projects, and learning through hands-on experience.\n",
       "\n",
       "The curriculum is designed to be rigorous, and students are expected to put in long hours of work each week. The program also includes career services, which help students find jobs after graduation. \n",
       "\n",
       "Codeup has campuses in several cities, including San Antonio, Houston, Dallas, and Tampa. The program is open to anyone interested in learning to code, regardless of their previous experience or educational background."
      ],
      "text/plain": [
       "<IPython.core.display.Markdown object>"
      ]
     },
     "metadata": {},
     "output_type": "display_data"
    }
   ],
   "source": [
    "display(Markdown(f'# {message}'))"
   ]
  },
  {
   "cell_type": "markdown",
   "id": "70f1c9ac",
   "metadata": {},
   "source": [
    "```python\n",
    "# using command line\n",
    "\n",
    "!curl https://api.openai.com/v1/completions \\\n",
    "  -H 'Content-Type: application/json' \\\n",
    "  -H 'Authorization: Bearer <replace this with API Key>' \\\n",
    "  -d '{\"model\": \"text-davinci-003\",\"prompt\": \"Say this is a test\",\"max_tokens\": 7,\"temperature\": 0}'\n",
    "```"
   ]
  },
  {
   "cell_type": "markdown",
   "id": "9e4ac8cf",
   "metadata": {},
   "source": [
    "```python\n",
    "# message dictionary format\n",
    "{\n",
    "  \"model\": \"text-davinci-003\",\n",
    "  \"prompt\": \"Say this is a test\",\n",
    "  \"max_tokens\": 7,\n",
    "  \"temperature\": 0,\n",
    "  \"top_p\": 1,\n",
    "  \"n\": 1,\n",
    "  \"stream\": false,\n",
    "  \"logprobs\": null,\n",
    "  \"stop\": \"\\n\"\n",
    "}\n",
    "```"
   ]
  },
  {
   "cell_type": "code",
   "execution_count": null,
   "id": "75b23524",
   "metadata": {},
   "outputs": [],
   "source": []
  }
 ],
 "metadata": {
  "kernelspec": {
   "display_name": "Python 3 (ipykernel)",
   "language": "python",
   "name": "python3"
  },
  "language_info": {
   "codemirror_mode": {
    "name": "ipython",
    "version": 3
   },
   "file_extension": ".py",
   "mimetype": "text/x-python",
   "name": "python",
   "nbconvert_exporter": "python",
   "pygments_lexer": "ipython3",
   "version": "3.9.15"
  }
 },
 "nbformat": 4,
 "nbformat_minor": 5
}
